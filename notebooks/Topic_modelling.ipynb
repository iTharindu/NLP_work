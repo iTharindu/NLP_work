{
  "nbformat": 4,
  "nbformat_minor": 0,
  "metadata": {
    "colab": {
      "name": "Topic_modelling.ipynb",
      "provenance": []
    },
    "kernelspec": {
      "name": "python3",
      "display_name": "Python 3"
    }
  },
  "cells": [
    {
      "cell_type": "code",
      "metadata": {
        "id": "krTJ-x7hbcT4",
        "colab_type": "code",
        "outputId": "2cfd1d74-f5cd-4aa6-fea7-7e4747a031c9",
        "colab": {
          "base_uri": "https://localhost:8080/",
          "height": 122
        }
      },
      "source": [
        "import pandas as pd\n",
        "from google.colab import drive\n",
        "\n",
        "drive.mount('/content/drive')"
      ],
      "execution_count": 0,
      "outputs": [
        {
          "output_type": "stream",
          "text": [
            "Go to this URL in a browser: https://accounts.google.com/o/oauth2/auth?client_id=947318989803-6bn6qk8qdgf4n4g3pfee6491hc0brc4i.apps.googleusercontent.com&redirect_uri=urn%3Aietf%3Awg%3Aoauth%3A2.0%3Aoob&scope=email%20https%3A%2F%2Fwww.googleapis.com%2Fauth%2Fdocs.test%20https%3A%2F%2Fwww.googleapis.com%2Fauth%2Fdrive%20https%3A%2F%2Fwww.googleapis.com%2Fauth%2Fdrive.photos.readonly%20https%3A%2F%2Fwww.googleapis.com%2Fauth%2Fpeopleapi.readonly&response_type=code\n",
            "\n",
            "Enter your authorization code:\n",
            "··········\n",
            "Mounted at /content/drive\n"
          ],
          "name": "stdout"
        }
      ]
    },
    {
      "cell_type": "code",
      "metadata": {
        "id": "tYpHkMSBhWVo",
        "colab_type": "code",
        "colab": {}
      },
      "source": [
        "path = \"/content/drive/My Drive/NLP-Exercises-master/2.2-topic-modeling/abcnews-date-text.csv\""
      ],
      "execution_count": 0,
      "outputs": []
    },
    {
      "cell_type": "code",
      "metadata": {
        "id": "KqB1dU8Gg4Xo",
        "colab_type": "code",
        "colab": {}
      },
      "source": [
        "data = pd.read_csv(path, error_bad_lines = False)\n",
        "data_text = data[:300000][['headline_text']]\n",
        "data_text['index'] = data_text.index\n",
        "\n",
        "documents = data_text"
      ],
      "execution_count": 0,
      "outputs": []
    },
    {
      "cell_type": "code",
      "metadata": {
        "id": "f7OPM4LXhLGF",
        "colab_type": "code",
        "outputId": "890be71c-2fbd-41fb-e811-81ae5d6365d3",
        "colab": {
          "base_uri": "https://localhost:8080/",
          "height": 204
        }
      },
      "source": [
        "documents.head()"
      ],
      "execution_count": 0,
      "outputs": [
        {
          "output_type": "execute_result",
          "data": {
            "text/html": [
              "<div>\n",
              "<style scoped>\n",
              "    .dataframe tbody tr th:only-of-type {\n",
              "        vertical-align: middle;\n",
              "    }\n",
              "\n",
              "    .dataframe tbody tr th {\n",
              "        vertical-align: top;\n",
              "    }\n",
              "\n",
              "    .dataframe thead th {\n",
              "        text-align: right;\n",
              "    }\n",
              "</style>\n",
              "<table border=\"1\" class=\"dataframe\">\n",
              "  <thead>\n",
              "    <tr style=\"text-align: right;\">\n",
              "      <th></th>\n",
              "      <th>headline_text</th>\n",
              "      <th>index</th>\n",
              "    </tr>\n",
              "  </thead>\n",
              "  <tbody>\n",
              "    <tr>\n",
              "      <th>0</th>\n",
              "      <td>aba decides against community broadcasting lic...</td>\n",
              "      <td>0</td>\n",
              "    </tr>\n",
              "    <tr>\n",
              "      <th>1</th>\n",
              "      <td>act fire witnesses must be aware of defamation</td>\n",
              "      <td>1</td>\n",
              "    </tr>\n",
              "    <tr>\n",
              "      <th>2</th>\n",
              "      <td>a g calls for infrastructure protection summit</td>\n",
              "      <td>2</td>\n",
              "    </tr>\n",
              "    <tr>\n",
              "      <th>3</th>\n",
              "      <td>air nz staff in aust strike for pay rise</td>\n",
              "      <td>3</td>\n",
              "    </tr>\n",
              "    <tr>\n",
              "      <th>4</th>\n",
              "      <td>air nz strike to affect australian travellers</td>\n",
              "      <td>4</td>\n",
              "    </tr>\n",
              "  </tbody>\n",
              "</table>\n",
              "</div>"
            ],
            "text/plain": [
              "                                       headline_text  index\n",
              "0  aba decides against community broadcasting lic...      0\n",
              "1     act fire witnesses must be aware of defamation      1\n",
              "2     a g calls for infrastructure protection summit      2\n",
              "3           air nz staff in aust strike for pay rise      3\n",
              "4      air nz strike to affect australian travellers      4"
            ]
          },
          "metadata": {
            "tags": []
          },
          "execution_count": 5
        }
      ]
    },
    {
      "cell_type": "code",
      "metadata": {
        "id": "3x6VJnqMKUjq",
        "colab_type": "code",
        "colab": {}
      },
      "source": [
        "import gensim\n",
        "from gensim.utils import simple_preprocess\n",
        "from gensim.parsing.preprocessing import STOPWORDS\n",
        "from nltk.stem import WordNetLemmatizer, SnowballStemmer\n",
        "from nltk.stem.porter import *\n",
        "import numpy as np\n",
        "\n",
        "np.random.seed(400)"
      ],
      "execution_count": 0,
      "outputs": []
    },
    {
      "cell_type": "code",
      "metadata": {
        "id": "sxJjj0FdLAZD",
        "colab_type": "code",
        "outputId": "ea923f74-8602-440f-84bc-ae11c5a3bab5",
        "colab": {
          "base_uri": "https://localhost:8080/",
          "height": 68
        }
      },
      "source": [
        "import nltk\n",
        "nltk.download('wordnet')"
      ],
      "execution_count": 0,
      "outputs": [
        {
          "output_type": "stream",
          "text": [
            "[nltk_data] Downloading package wordnet to /root/nltk_data...\n",
            "[nltk_data]   Unzipping corpora/wordnet.zip.\n"
          ],
          "name": "stdout"
        },
        {
          "output_type": "execute_result",
          "data": {
            "text/plain": [
              "True"
            ]
          },
          "metadata": {
            "tags": []
          },
          "execution_count": 8
        }
      ]
    },
    {
      "cell_type": "code",
      "metadata": {
        "id": "UvcbLtv6LHko",
        "colab_type": "code",
        "outputId": "9075c194-a4c3-4b86-93ea-7fdf229f816f",
        "colab": {
          "base_uri": "https://localhost:8080/",
          "height": 34
        }
      },
      "source": [
        "print(WordNetLemmatizer().lemmatize('ate', pos = 'v'))"
      ],
      "execution_count": 0,
      "outputs": [
        {
          "output_type": "stream",
          "text": [
            "eat\n"
          ],
          "name": "stdout"
        }
      ]
    },
    {
      "cell_type": "code",
      "metadata": {
        "id": "3LqRXntKLVE0",
        "colab_type": "code",
        "outputId": "f22f5899-a6b4-4a84-cadd-5ebb3a3ae62b",
        "colab": {
          "base_uri": "https://localhost:8080/",
          "height": 638
        }
      },
      "source": [
        "stemmer = SnowballStemmer('english')\n",
        "\n",
        "original_words = ['caresses', 'flies', 'dies', 'mules', 'denied','died', 'agreed', 'owned', \n",
        "           'humbled', 'sized','meeting', 'stating', 'siezing', 'itemization','sensational', \n",
        "           'traditional', 'reference', 'colonizer','plotted']\n",
        "\n",
        "singles = [stemmer.stem(plural) for plural in original_words]\n",
        "\n",
        "pd.DataFrame(data={'original word': original_words, 'stemmed':singles})"
      ],
      "execution_count": 0,
      "outputs": [
        {
          "output_type": "execute_result",
          "data": {
            "text/html": [
              "<div>\n",
              "<style scoped>\n",
              "    .dataframe tbody tr th:only-of-type {\n",
              "        vertical-align: middle;\n",
              "    }\n",
              "\n",
              "    .dataframe tbody tr th {\n",
              "        vertical-align: top;\n",
              "    }\n",
              "\n",
              "    .dataframe thead th {\n",
              "        text-align: right;\n",
              "    }\n",
              "</style>\n",
              "<table border=\"1\" class=\"dataframe\">\n",
              "  <thead>\n",
              "    <tr style=\"text-align: right;\">\n",
              "      <th></th>\n",
              "      <th>original word</th>\n",
              "      <th>stemmed</th>\n",
              "    </tr>\n",
              "  </thead>\n",
              "  <tbody>\n",
              "    <tr>\n",
              "      <th>0</th>\n",
              "      <td>caresses</td>\n",
              "      <td>caress</td>\n",
              "    </tr>\n",
              "    <tr>\n",
              "      <th>1</th>\n",
              "      <td>flies</td>\n",
              "      <td>fli</td>\n",
              "    </tr>\n",
              "    <tr>\n",
              "      <th>2</th>\n",
              "      <td>dies</td>\n",
              "      <td>die</td>\n",
              "    </tr>\n",
              "    <tr>\n",
              "      <th>3</th>\n",
              "      <td>mules</td>\n",
              "      <td>mule</td>\n",
              "    </tr>\n",
              "    <tr>\n",
              "      <th>4</th>\n",
              "      <td>denied</td>\n",
              "      <td>deni</td>\n",
              "    </tr>\n",
              "    <tr>\n",
              "      <th>5</th>\n",
              "      <td>died</td>\n",
              "      <td>die</td>\n",
              "    </tr>\n",
              "    <tr>\n",
              "      <th>6</th>\n",
              "      <td>agreed</td>\n",
              "      <td>agre</td>\n",
              "    </tr>\n",
              "    <tr>\n",
              "      <th>7</th>\n",
              "      <td>owned</td>\n",
              "      <td>own</td>\n",
              "    </tr>\n",
              "    <tr>\n",
              "      <th>8</th>\n",
              "      <td>humbled</td>\n",
              "      <td>humbl</td>\n",
              "    </tr>\n",
              "    <tr>\n",
              "      <th>9</th>\n",
              "      <td>sized</td>\n",
              "      <td>size</td>\n",
              "    </tr>\n",
              "    <tr>\n",
              "      <th>10</th>\n",
              "      <td>meeting</td>\n",
              "      <td>meet</td>\n",
              "    </tr>\n",
              "    <tr>\n",
              "      <th>11</th>\n",
              "      <td>stating</td>\n",
              "      <td>state</td>\n",
              "    </tr>\n",
              "    <tr>\n",
              "      <th>12</th>\n",
              "      <td>siezing</td>\n",
              "      <td>siez</td>\n",
              "    </tr>\n",
              "    <tr>\n",
              "      <th>13</th>\n",
              "      <td>itemization</td>\n",
              "      <td>item</td>\n",
              "    </tr>\n",
              "    <tr>\n",
              "      <th>14</th>\n",
              "      <td>sensational</td>\n",
              "      <td>sensat</td>\n",
              "    </tr>\n",
              "    <tr>\n",
              "      <th>15</th>\n",
              "      <td>traditional</td>\n",
              "      <td>tradit</td>\n",
              "    </tr>\n",
              "    <tr>\n",
              "      <th>16</th>\n",
              "      <td>reference</td>\n",
              "      <td>refer</td>\n",
              "    </tr>\n",
              "    <tr>\n",
              "      <th>17</th>\n",
              "      <td>colonizer</td>\n",
              "      <td>colon</td>\n",
              "    </tr>\n",
              "    <tr>\n",
              "      <th>18</th>\n",
              "      <td>plotted</td>\n",
              "      <td>plot</td>\n",
              "    </tr>\n",
              "  </tbody>\n",
              "</table>\n",
              "</div>"
            ],
            "text/plain": [
              "   original word stemmed\n",
              "0       caresses  caress\n",
              "1          flies     fli\n",
              "2           dies     die\n",
              "3          mules    mule\n",
              "4         denied    deni\n",
              "5           died     die\n",
              "6         agreed    agre\n",
              "7          owned     own\n",
              "8        humbled   humbl\n",
              "9          sized    size\n",
              "10       meeting    meet\n",
              "11       stating   state\n",
              "12       siezing    siez\n",
              "13   itemization    item\n",
              "14   sensational  sensat\n",
              "15   traditional  tradit\n",
              "16     reference   refer\n",
              "17     colonizer   colon\n",
              "18       plotted    plot"
            ]
          },
          "metadata": {
            "tags": []
          },
          "execution_count": 13
        }
      ]
    },
    {
      "cell_type": "code",
      "metadata": {
        "id": "bPVhlnyiMBdv",
        "colab_type": "code",
        "colab": {}
      },
      "source": [
        "def lemmatize_stemming(text):\n",
        "  return stemmer.stem(WordNetLemmatizer().lemmatize(text, pos = 'v'))\n",
        "\n",
        "def preprocess(text):\n",
        "  result = []\n",
        "  for token in gensim.utils.simple_preprocess(text):\n",
        "    if token not in gensim.parsing.preprocessing.STOPWORDS and len(token) > 3:\n",
        "      result.append(lemmatize_stemming(token))\n",
        "  return result "
      ],
      "execution_count": 0,
      "outputs": []
    },
    {
      "cell_type": "code",
      "metadata": {
        "id": "rzg7awd1NV42",
        "colab_type": "code",
        "outputId": "0d8f4f57-8be6-49ed-f900-3854f532f164",
        "colab": {
          "base_uri": "https://localhost:8080/",
          "height": 119
        }
      },
      "source": [
        "document_num = 4310\n",
        "doc_sample = documents[documents['index'] == document_num].values[0][0]\n",
        "\n",
        "print(\"Original document: \")\n",
        "words = []\n",
        "for word in doc_sample.split(' '):\n",
        "  words.append(word)\n",
        "\n",
        "print(words)\n",
        "print(\"\\n\\nTokenize and lemmatized document: \")\n",
        "print(preprocess(doc_sample))"
      ],
      "execution_count": 0,
      "outputs": [
        {
          "output_type": "stream",
          "text": [
            "Original document: \n",
            "['rain', 'helps', 'dampen', 'bushfires']\n",
            "\n",
            "\n",
            "Tokenize and lemmatized document: \n",
            "['rain', 'help', 'dampen', 'bushfir']\n"
          ],
          "name": "stdout"
        }
      ]
    },
    {
      "cell_type": "code",
      "metadata": {
        "id": "-pY1g9AZOiQJ",
        "colab_type": "code",
        "colab": {}
      },
      "source": [
        "processed_docs = documents['headline_text'].map(preprocess)"
      ],
      "execution_count": 0,
      "outputs": []
    },
    {
      "cell_type": "code",
      "metadata": {
        "id": "iyDOwzXTPHcj",
        "colab_type": "code",
        "outputId": "90d94e32-1ea5-4540-d71a-6f27a5a7c4c3",
        "colab": {
          "base_uri": "https://localhost:8080/",
          "height": 204
        }
      },
      "source": [
        "processed_docs[:10]"
      ],
      "execution_count": 0,
      "outputs": [
        {
          "output_type": "execute_result",
          "data": {
            "text/plain": [
              "0            [decid, communiti, broadcast, licenc]\n",
              "1                               [wit, awar, defam]\n",
              "2           [call, infrastructur, protect, summit]\n",
              "3                      [staff, aust, strike, rise]\n",
              "4             [strike, affect, australian, travel]\n",
              "5               [ambiti, olsson, win, tripl, jump]\n",
              "6           [antic, delight, record, break, barca]\n",
              "7    [aussi, qualifi, stosur, wast, memphi, match]\n",
              "8            [aust, address, secur, council, iraq]\n",
              "9                         [australia, lock, timet]\n",
              "Name: headline_text, dtype: object"
            ]
          },
          "metadata": {
            "tags": []
          },
          "execution_count": 19
        }
      ]
    },
    {
      "cell_type": "code",
      "metadata": {
        "id": "ClRX8Km-PL2G",
        "colab_type": "code",
        "colab": {}
      },
      "source": [
        "dictionary = gensim.corpora.Dictionary(processed_docs)"
      ],
      "execution_count": 0,
      "outputs": []
    },
    {
      "cell_type": "code",
      "metadata": {
        "id": "vwnDEU7rPYFZ",
        "colab_type": "code",
        "outputId": "55295750-38c3-4fba-ce3c-972bcce6afee",
        "colab": {
          "base_uri": "https://localhost:8080/",
          "height": 204
        }
      },
      "source": [
        "count = 0\n",
        "for k, v in dictionary.iteritems():\n",
        "  print(k,v)\n",
        "  count += 1\n",
        "  if count > 10 :\n",
        "    break"
      ],
      "execution_count": 0,
      "outputs": [
        {
          "output_type": "stream",
          "text": [
            "0 broadcast\n",
            "1 communiti\n",
            "2 decid\n",
            "3 licenc\n",
            "4 awar\n",
            "5 defam\n",
            "6 wit\n",
            "7 call\n",
            "8 infrastructur\n",
            "9 protect\n",
            "10 summit\n"
          ],
          "name": "stdout"
        }
      ]
    },
    {
      "cell_type": "code",
      "metadata": {
        "id": "3sO6AjkDPmBQ",
        "colab_type": "code",
        "colab": {}
      },
      "source": [
        "dictionary.filter_extremes(no_below=15, no_above=0.1, keep_n=100000)"
      ],
      "execution_count": 0,
      "outputs": []
    },
    {
      "cell_type": "code",
      "metadata": {
        "id": "UCPRlqVfP6t4",
        "colab_type": "code",
        "colab": {}
      },
      "source": [
        "bow_corpus = [dictionary.doc2bow(doc) for doc in processed_docs]"
      ],
      "execution_count": 0,
      "outputs": []
    },
    {
      "cell_type": "code",
      "metadata": {
        "id": "06-YzXkTgLNC",
        "colab_type": "code",
        "outputId": "8e358157-561c-40b7-f653-741a30f1da01",
        "colab": {
          "base_uri": "https://localhost:8080/",
          "height": 34
        }
      },
      "source": [
        "bow_corpus[0]"
      ],
      "execution_count": 0,
      "outputs": [
        {
          "output_type": "execute_result",
          "data": {
            "text/plain": [
              "[(0, 1), (1, 1), (2, 1), (3, 1)]"
            ]
          },
          "metadata": {
            "tags": []
          },
          "execution_count": 28
        }
      ]
    },
    {
      "cell_type": "code",
      "metadata": {
        "id": "ccZq-ElagRvh",
        "colab_type": "code",
        "outputId": "95e970a8-9f16-4e82-a874-84dd623e9fc2",
        "colab": {
          "base_uri": "https://localhost:8080/",
          "height": 85
        }
      },
      "source": [
        "bow_doc_0 = bow_corpus[document_num]\n",
        "\n",
        "for i in range(len(bow_doc_0)):\n",
        "  print(\"Word {} (\\\"{}\\\") appears {} time.\".format(bow_doc_0[i][0], \n",
        "                                                     dictionary[bow_doc_0[i][0]], \n",
        "                                                     bow_doc_0[i][1]))"
      ],
      "execution_count": 0,
      "outputs": [
        {
          "output_type": "stream",
          "text": [
            "Word 71 (\"bushfir\") appears 1 time.\n",
            "Word 107 (\"help\") appears 1 time.\n",
            "Word 462 (\"rain\") appears 1 time.\n",
            "Word 3530 (\"dampen\") appears 1 time.\n"
          ],
          "name": "stdout"
        }
      ]
    },
    {
      "cell_type": "code",
      "metadata": {
        "id": "ySkY3UyCgqie",
        "colab_type": "code",
        "colab": {}
      },
      "source": [
        "from gensim import corpora, models\n",
        "\n",
        "tfidf = models.TfidfModel(bow_corpus)"
      ],
      "execution_count": 0,
      "outputs": []
    },
    {
      "cell_type": "code",
      "metadata": {
        "id": "WnnSjT-OjuA9",
        "colab_type": "code",
        "colab": {}
      },
      "source": [
        "corpus_tfidf = tfidf[bow_corpus]"
      ],
      "execution_count": 0,
      "outputs": []
    },
    {
      "cell_type": "code",
      "metadata": {
        "id": "bsB3jzCoj2fi",
        "colab_type": "code",
        "outputId": "181b57d8-e88d-453f-fa31-f774d24fb166",
        "colab": {
          "base_uri": "https://localhost:8080/",
          "height": 85
        }
      },
      "source": [
        "from pprint import pprint\n",
        "for doc in corpus_tfidf:\n",
        "    pprint(doc)\n",
        "    break"
      ],
      "execution_count": 0,
      "outputs": [
        {
          "output_type": "stream",
          "text": [
            "[(0, 0.5959813347777092),\n",
            " (1, 0.39204529549491984),\n",
            " (2, 0.48531419274988147),\n",
            " (3, 0.5055461098578569)]\n"
          ],
          "name": "stdout"
        }
      ]
    },
    {
      "cell_type": "code",
      "metadata": {
        "id": "X43Ohccbj4fx",
        "colab_type": "code",
        "colab": {}
      },
      "source": [
        "lda_model = gensim.models.LdaMulticore(bow_corpus, num_topics=10, id2word=dictionary, passes =2, workers=2)"
      ],
      "execution_count": 0,
      "outputs": []
    },
    {
      "cell_type": "code",
      "metadata": {
        "id": "E6drCJOGkdNF",
        "colab_type": "code",
        "outputId": "39e325be-bd55-48a5-f676-d4aaf48f3e33",
        "colab": {
          "base_uri": "https://localhost:8080/",
          "height": 717
        }
      },
      "source": [
        "for idx, topic in lda_model.print_topics(-1):\n",
        "    print(\"Topic: {} \\nWords: {}\".format(idx, topic))\n",
        "    print(\"\\n\")"
      ],
      "execution_count": 0,
      "outputs": [
        {
          "output_type": "stream",
          "text": [
            "Topic: 0 \n",
            "Words: 0.022*\"closer\" + 0.021*\"test\" + 0.020*\"lead\" + 0.017*\"talk\" + 0.014*\"south\" + 0.013*\"law\" + 0.012*\"take\" + 0.012*\"timor\" + 0.011*\"west\" + 0.010*\"open\"\n",
            "\n",
            "\n",
            "Topic: 1 \n",
            "Words: 0.092*\"polic\" + 0.028*\"seek\" + 0.025*\"investig\" + 0.022*\"miss\" + 0.016*\"probe\" + 0.015*\"search\" + 0.013*\"region\" + 0.011*\"offic\" + 0.011*\"bodi\" + 0.011*\"park\"\n",
            "\n",
            "\n",
            "Topic: 2 \n",
            "Words: 0.016*\"record\" + 0.014*\"break\" + 0.014*\"australia\" + 0.013*\"look\" + 0.012*\"rain\" + 0.012*\"drought\" + 0.012*\"dead\" + 0.012*\"price\" + 0.010*\"sydney\" + 0.010*\"fall\"\n",
            "\n",
            "\n",
            "Topic: 3 \n",
            "Words: 0.050*\"water\" + 0.033*\"warn\" + 0.015*\"industri\" + 0.015*\"continu\" + 0.013*\"farmer\" + 0.012*\"urg\" + 0.012*\"busi\" + 0.012*\"begin\" + 0.011*\"worker\" + 0.010*\"govt\"\n",
            "\n",
            "\n",
            "Topic: 4 \n",
            "Words: 0.016*\"elect\" + 0.016*\"iraq\" + 0.014*\"howard\" + 0.014*\"deal\" + 0.013*\"market\" + 0.013*\"labor\" + 0.012*\"say\" + 0.011*\"appeal\" + 0.011*\"plan\" + 0.011*\"troop\"\n",
            "\n",
            "\n",
            "Topic: 5 \n",
            "Words: 0.040*\"charg\" + 0.034*\"court\" + 0.033*\"face\" + 0.023*\"kill\" + 0.020*\"murder\" + 0.020*\"accus\" + 0.020*\"forc\" + 0.019*\"attack\" + 0.016*\"case\" + 0.013*\"trial\"\n",
            "\n",
            "\n",
            "Topic: 6 \n",
            "Words: 0.018*\"return\" + 0.017*\"hold\" + 0.014*\"question\" + 0.014*\"work\" + 0.013*\"firefight\" + 0.013*\"resid\" + 0.011*\"blaze\" + 0.010*\"rais\" + 0.010*\"battl\" + 0.010*\"unit\"\n",
            "\n",
            "\n",
            "Topic: 7 \n",
            "Words: 0.038*\"crash\" + 0.025*\"jail\" + 0.021*\"road\" + 0.017*\"die\" + 0.017*\"death\" + 0.016*\"coast\" + 0.013*\"driver\" + 0.013*\"prompt\" + 0.012*\"gold\" + 0.012*\"get\"\n",
            "\n",
            "\n",
            "Topic: 8 \n",
            "Words: 0.054*\"govt\" + 0.030*\"council\" + 0.024*\"fund\" + 0.022*\"plan\" + 0.021*\"urg\" + 0.017*\"boost\" + 0.013*\"servic\" + 0.012*\"health\" + 0.012*\"defend\" + 0.012*\"rise\"\n",
            "\n",
            "\n",
            "Topic: 9 \n",
            "Words: 0.036*\"report\" + 0.024*\"opposit\" + 0.023*\"power\" + 0.014*\"win\" + 0.012*\"say\" + 0.012*\"state\" + 0.012*\"final\" + 0.011*\"compani\" + 0.010*\"nuclear\" + 0.008*\"feder\"\n",
            "\n",
            "\n"
          ],
          "name": "stdout"
        }
      ]
    },
    {
      "cell_type": "code",
      "metadata": {
        "id": "iwFvidV8m99a",
        "colab_type": "code",
        "outputId": "bc614d08-bebe-4bf0-b335-b3a90a1f69f9",
        "colab": {
          "base_uri": "https://localhost:8080/",
          "height": 34
        }
      },
      "source": [
        "processed_docs[4310]"
      ],
      "execution_count": 0,
      "outputs": [
        {
          "output_type": "execute_result",
          "data": {
            "text/plain": [
              "['rain', 'help', 'dampen', 'bushfir']"
            ]
          },
          "metadata": {
            "tags": []
          },
          "execution_count": 38
        }
      ]
    },
    {
      "cell_type": "code",
      "metadata": {
        "id": "2o7p2vZxnT8T",
        "colab_type": "code",
        "outputId": "eb7deefc-33a6-46ef-8420-aeac97843e64",
        "colab": {
          "base_uri": "https://localhost:8080/",
          "height": 547
        }
      },
      "source": [
        "for index, score in sorted(lda_model[bow_corpus[document_num]], key=lambda tup: -1*tup[1]):\n",
        "    print(\"\\nScore: {}\\t \\nTopic: {}\".format(score, lda_model.print_topic(index, 10)))"
      ],
      "execution_count": 0,
      "outputs": [
        {
          "output_type": "stream",
          "text": [
            "\n",
            "Score: 0.5591250658035278\t \n",
            "Topic: 0.016*\"record\" + 0.014*\"break\" + 0.014*\"australia\" + 0.013*\"look\" + 0.012*\"rain\" + 0.012*\"drought\" + 0.012*\"dead\" + 0.012*\"price\" + 0.010*\"sydney\" + 0.010*\"fall\"\n",
            "\n",
            "Score: 0.2808539867401123\t \n",
            "Topic: 0.050*\"water\" + 0.033*\"warn\" + 0.015*\"industri\" + 0.015*\"continu\" + 0.013*\"farmer\" + 0.012*\"urg\" + 0.012*\"busi\" + 0.012*\"begin\" + 0.011*\"worker\" + 0.010*\"govt\"\n",
            "\n",
            "Score: 0.02000882849097252\t \n",
            "Topic: 0.092*\"polic\" + 0.028*\"seek\" + 0.025*\"investig\" + 0.022*\"miss\" + 0.016*\"probe\" + 0.015*\"search\" + 0.013*\"region\" + 0.011*\"offic\" + 0.011*\"bodi\" + 0.011*\"park\"\n",
            "\n",
            "Score: 0.02000432275235653\t \n",
            "Topic: 0.054*\"govt\" + 0.030*\"council\" + 0.024*\"fund\" + 0.022*\"plan\" + 0.021*\"urg\" + 0.017*\"boost\" + 0.013*\"servic\" + 0.012*\"health\" + 0.012*\"defend\" + 0.012*\"rise\"\n",
            "\n",
            "Score: 0.020003890618681908\t \n",
            "Topic: 0.018*\"return\" + 0.017*\"hold\" + 0.014*\"question\" + 0.014*\"work\" + 0.013*\"firefight\" + 0.013*\"resid\" + 0.011*\"blaze\" + 0.010*\"rais\" + 0.010*\"battl\" + 0.010*\"unit\"\n",
            "\n",
            "Score: 0.020001953467726707\t \n",
            "Topic: 0.022*\"closer\" + 0.021*\"test\" + 0.020*\"lead\" + 0.017*\"talk\" + 0.014*\"south\" + 0.013*\"law\" + 0.012*\"take\" + 0.012*\"timor\" + 0.011*\"west\" + 0.010*\"open\"\n",
            "\n",
            "Score: 0.020001476630568504\t \n",
            "Topic: 0.038*\"crash\" + 0.025*\"jail\" + 0.021*\"road\" + 0.017*\"die\" + 0.017*\"death\" + 0.016*\"coast\" + 0.013*\"driver\" + 0.013*\"prompt\" + 0.012*\"gold\" + 0.012*\"get\"\n",
            "\n",
            "Score: 0.0200003981590271\t \n",
            "Topic: 0.016*\"elect\" + 0.016*\"iraq\" + 0.014*\"howard\" + 0.014*\"deal\" + 0.013*\"market\" + 0.013*\"labor\" + 0.012*\"say\" + 0.011*\"appeal\" + 0.011*\"plan\" + 0.011*\"troop\"\n",
            "\n",
            "Score: 0.020000135526061058\t \n",
            "Topic: 0.036*\"report\" + 0.024*\"opposit\" + 0.023*\"power\" + 0.014*\"win\" + 0.012*\"say\" + 0.012*\"state\" + 0.012*\"final\" + 0.011*\"compani\" + 0.010*\"nuclear\" + 0.008*\"feder\"\n",
            "\n",
            "Score: 0.020000001415610313\t \n",
            "Topic: 0.040*\"charg\" + 0.034*\"court\" + 0.033*\"face\" + 0.023*\"kill\" + 0.020*\"murder\" + 0.020*\"accus\" + 0.020*\"forc\" + 0.019*\"attack\" + 0.016*\"case\" + 0.013*\"trial\"\n"
          ],
          "name": "stdout"
        }
      ]
    },
    {
      "cell_type": "code",
      "metadata": {
        "id": "XJp30NXMnacs",
        "colab_type": "code",
        "outputId": "04bf05fd-240e-4916-854f-e5781e33a63f",
        "colab": {
          "base_uri": "https://localhost:8080/",
          "height": 207
        }
      },
      "source": [
        "\n",
        "unseen_document = \"My favorite sports activities are running and swimming.\"\n",
        "\n",
        "# Data preprocessing step for the unseen document\n",
        "bow_vector = dictionary.doc2bow(preprocess(unseen_document))\n",
        "\n",
        "for index, score in sorted(lda_model[bow_vector], key=lambda tup: -1*tup[1]):\n",
        "    print(\"Score: {}\\t Topic: {}\".format(score, lda_model.print_topic(index, 5)))"
      ],
      "execution_count": 0,
      "outputs": [
        {
          "output_type": "stream",
          "text": [
            "Score: 0.4200000762939453\t Topic: 0.022*\"closer\" + 0.021*\"test\" + 0.020*\"lead\" + 0.017*\"talk\" + 0.014*\"south\"\n",
            "Score: 0.2199999839067459\t Topic: 0.018*\"return\" + 0.017*\"hold\" + 0.014*\"question\" + 0.014*\"work\" + 0.013*\"firefight\"\n",
            "Score: 0.21999213099479675\t Topic: 0.040*\"charg\" + 0.034*\"court\" + 0.033*\"face\" + 0.023*\"kill\" + 0.020*\"murder\"\n",
            "Score: 0.02000407502055168\t Topic: 0.038*\"crash\" + 0.025*\"jail\" + 0.021*\"road\" + 0.017*\"die\" + 0.017*\"death\"\n",
            "Score: 0.020003709942102432\t Topic: 0.036*\"report\" + 0.024*\"opposit\" + 0.023*\"power\" + 0.014*\"win\" + 0.012*\"say\"\n",
            "Score: 0.019999999552965164\t Topic: 0.092*\"polic\" + 0.028*\"seek\" + 0.025*\"investig\" + 0.022*\"miss\" + 0.016*\"probe\"\n",
            "Score: 0.019999999552965164\t Topic: 0.016*\"record\" + 0.014*\"break\" + 0.014*\"australia\" + 0.013*\"look\" + 0.012*\"rain\"\n",
            "Score: 0.019999999552965164\t Topic: 0.050*\"water\" + 0.033*\"warn\" + 0.015*\"industri\" + 0.015*\"continu\" + 0.013*\"farmer\"\n",
            "Score: 0.019999999552965164\t Topic: 0.016*\"elect\" + 0.016*\"iraq\" + 0.014*\"howard\" + 0.014*\"deal\" + 0.013*\"market\"\n",
            "Score: 0.019999999552965164\t Topic: 0.054*\"govt\" + 0.030*\"council\" + 0.024*\"fund\" + 0.022*\"plan\" + 0.021*\"urg\"\n"
          ],
          "name": "stdout"
        }
      ]
    },
    {
      "cell_type": "code",
      "metadata": {
        "id": "NlFA2-iKnqH4",
        "colab_type": "code",
        "colab": {}
      },
      "source": [
        ""
      ],
      "execution_count": 0,
      "outputs": []
    }
  ]
}